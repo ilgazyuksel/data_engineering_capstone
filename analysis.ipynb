{
 "cells": [
  {
   "cell_type": "markdown",
   "metadata": {},
   "source": [
    "#### Import packages"
   ]
  },
  {
   "cell_type": "code",
   "execution_count": 1,
   "metadata": {},
   "outputs": [],
   "source": [
    "from utils.io import create_spark_session\n",
    "from pyspark.sql import functions as F\n",
    "from pyspark.sql import Window\n",
    "from utils.io import (\n",
    "    create_spark_session,\n",
    "    provide_config,\n",
    "    read_with_meta\n",
    ")"
   ]
  },
  {
   "cell_type": "markdown",
   "metadata": {},
   "source": [
    "#### Provide config"
   ]
  },
  {
   "cell_type": "code",
   "execution_count": 2,
   "metadata": {},
   "outputs": [],
   "source": [
    "config_path = 's3://ilgazy-udacity/scripts/config.yaml'\n",
    "config = provide_config(config_path)"
   ]
  },
  {
   "cell_type": "markdown",
   "metadata": {},
   "source": [
    "#### Read fact and dimension tables"
   ]
  },
  {
   "cell_type": "code",
   "execution_count": 3,
   "metadata": {},
   "outputs": [],
   "source": [
    "spark = create_spark_session()\n",
    "gdp_per_capita = read_with_meta(spark, df_meta=config['fact']['gdp_per_capita'])\n",
    "human_capital_index = read_with_meta(spark, df_meta=config['fact']['human_capital_index'])\n",
    "immigration = read_with_meta(spark, df_meta=config['fact']['immigration'])\n",
    "press_freedom_index = read_with_meta(spark, df_meta=config['fact']['press_freedom_index'])\n",
    "us_cities_demographics = read_with_meta(spark, df_meta=config['fact']['us_cities_demographics'])\n",
    "global_temperatures = read_with_meta(spark, df_meta=config['fact']['global_temperatures'])\n",
    "temperatures_by_country = read_with_meta(spark, df_meta=config['fact']['temperatures_by_country'])\n",
    "country = read_with_meta(spark, df_meta=config['dimension']['country'])"
   ]
  },
  {
   "cell_type": "markdown",
   "metadata": {},
   "source": [
    "#### Get county names\n",
    "Dataframes include with country_id are joined with country dimension table to get country names"
   ]
  },
  {
   "cell_type": "code",
   "execution_count": 4,
   "metadata": {},
   "outputs": [],
   "source": [
    "gdp_per_capita = gdp_per_capita.join(country, 'country_id').drop('country_id')\n",
    "human_capital_index = human_capital_index.join(country, 'country_id').drop('country_id')\n",
    "press_freedom_index = press_freedom_index.join(country, 'country_id').drop('country_id')\n",
    "temperatures_by_country = temperatures_by_country.join(country, 'country_id').drop('country_id')\n",
    "immigration = immigration \\\n",
    "    .withColumnRenamed('origin_country_id', 'country_id') \\\n",
    "    .join(country, 'country_id').drop('country_id') \\\n",
    "    .withColumnRenamed('country_name', 'origin_country')"
   ]
  },
  {
   "cell_type": "markdown",
   "metadata": {},
   "source": [
    "## Immigration general summary"
   ]
  },
  {
   "cell_type": "markdown",
   "metadata": {},
   "source": [
    "#### Top 10 origin_country that visits US in 2016"
   ]
  },
  {
   "cell_type": "code",
   "execution_count": 5,
   "metadata": {},
   "outputs": [
    {
     "name": "stdout",
     "output_type": "stream",
     "text": [
      "+--------------+------+\n",
      "|origin_country| count|\n",
      "+--------------+------+\n",
      "|UNITED KINGDOM|368421|\n",
      "|         JAPAN|249167|\n",
      "|        FRANCE|185339|\n",
      "|        MEXICO|179603|\n",
      "|       GERMANY|156613|\n",
      "|   SOUTH KOREA|136312|\n",
      "|        BRAZIL|134907|\n",
      "|     AUSTRALIA|112407|\n",
      "|         INDIA|107193|\n",
      "|     ARGENTINA| 75128|\n",
      "+--------------+------+\n",
      "\n"
     ]
    }
   ],
   "source": [
    "top_10_origin = immigration \\\n",
    "    .groupBy('origin_country') \\\n",
    "    .count() \\\n",
    "    .orderBy(F.col('count').desc()) \\\n",
    "    .limit(10)\n",
    "top_10_origin.show()"
   ]
  },
  {
   "cell_type": "markdown",
   "metadata": {},
   "source": [
    "#### Top 10 origin_country in terms of how long days spend in a visit"
   ]
  },
  {
   "cell_type": "code",
   "execution_count": 6,
   "metadata": {},
   "outputs": [
    {
     "name": "stdout",
     "output_type": "stream",
     "text": [
      "+--------------+-------------------+-----+\n",
      "|origin_country|average_days_stayed|count|\n",
      "+--------------+-------------------+-----+\n",
      "|         INDIA|  39.34789796620325|90127|\n",
      "|   EL SALVADOR| 28.183021518893735|13523|\n",
      "|       NIGERIA| 25.926920924282403|12507|\n",
      "|      HONDURAS| 25.796694589087615|13251|\n",
      "|       JAMAICA| 25.626632702834534|18451|\n",
      "|     GUATEMALA| 24.914150826189587|16098|\n",
      "|   PHILIPPINES| 23.671542337071347|24612|\n",
      "|     VENEZUELA|  20.66965045788727|38765|\n",
      "|        POLAND| 19.493722207690297|15292|\n",
      "|      DOMINICA| 18.472983098826077|24022|\n",
      "+--------------+-------------------+-----+\n",
      "\n"
     ]
    }
   ],
   "source": [
    "top_10_days_stayed = immigration \\\n",
    "    .withColumn('days_stayed', F.datediff('departure_date', 'arrival_date')) \\\n",
    "    .groupBy('origin_country').agg(F.avg('days_stayed').alias('average_days_stayed'),\n",
    "                                F.count('days_stayed').alias('count')) \\\n",
    "    .filter(F.col('count') > 10000) \\\n",
    "    .orderBy(F.col('average_days_stayed').desc()) \\\n",
    "    .limit(10)\n",
    "top_10_days_stayed.show()"
   ]
  },
  {
   "cell_type": "markdown",
   "metadata": {},
   "source": [
    "#### Types of immigrations to US in 2016"
   ]
  },
  {
   "cell_type": "code",
   "execution_count": 7,
   "metadata": {},
   "outputs": [
    {
     "name": "stdout",
     "output_type": "stream",
     "text": [
      "+---------+-------+\n",
      "|visa_type|  count|\n",
      "+---------+-------+\n",
      "| PLEASURE|2384159|\n",
      "| BUSINESS| 488666|\n",
      "|  STUDENT|  32474|\n",
      "+---------+-------+\n",
      "\n"
     ]
    }
   ],
   "source": [
    "immigration.groupBy('visa_type').count().orderBy(F.col('count').desc()).show()"
   ]
  },
  {
   "cell_type": "markdown",
   "metadata": {},
   "source": [
    "#### Top 10 city in terms of residence address of immigrations"
   ]
  },
  {
   "cell_type": "code",
   "execution_count": 8,
   "metadata": {},
   "outputs": [
    {
     "name": "stdout",
     "output_type": "stream",
     "text": [
      "+--------------+------+\n",
      "|residence_city| count|\n",
      "+--------------+------+\n",
      "|       FLORIDA|616399|\n",
      "|      NEW YORK|530692|\n",
      "|    CALIFORNIA|414074|\n",
      "|        HAWAII|157990|\n",
      "|       UNKNOWN|156295|\n",
      "|         TEXAS|126431|\n",
      "|        NEVADA|110333|\n",
      "|          GUAM| 91945|\n",
      "|      ILLINOIS| 74745|\n",
      "|    NEW JERSEY| 68767|\n",
      "+--------------+------+\n",
      "\n"
     ]
    }
   ],
   "source": [
    "top_10_residence_city = immigration \\\n",
    "    .groupBy('residence_city') \\\n",
    "    .count() \\\n",
    "    .orderBy(F.col('count').desc()) \\\n",
    "    .limit(10)\n",
    "top_10_residence_city.show()"
   ]
  },
  {
   "cell_type": "markdown",
   "metadata": {},
   "source": [
    "## Visa type analysis\n",
    "\n",
    "- **Prepare rank dataset**: human_capital_index and press_freedom index datasets don't include year 2016, thus 2017 has taken."
   ]
  },
  {
   "cell_type": "code",
   "execution_count": 9,
   "metadata": {},
   "outputs": [],
   "source": [
    "human_capital_rank = human_capital_index \\\n",
    "    .filter(F.col('year') == 2017) \\\n",
    "    .withColumnRenamed('country_name', 'origin_country') \\\n",
    "    .drop('year', 'human_capital_index')\n",
    "press_freedom_rank = press_freedom_index \\\n",
    "    .filter(F.col('year') == 2017) \\\n",
    "    .withColumnRenamed('country_name', 'origin_country') \\\n",
    "    .drop('year', 'press_freedom_index')\n",
    "gdp_per_capita_rank = gdp_per_capita \\\n",
    "    .filter(F.col('year') == 2016) \\\n",
    "    .withColumnRenamed('country_name', 'origin_country') \\\n",
    "    .drop('year', 'gdp_per_capita')"
   ]
  },
  {
   "cell_type": "markdown",
   "metadata": {},
   "source": [
    "#### Prepare country-visa type partitioned dataset that supported by additional stats"
   ]
  },
  {
   "cell_type": "code",
   "execution_count": 10,
   "metadata": {},
   "outputs": [],
   "source": [
    "window_origin_country = Window.partitionBy('origin_country')\n",
    "immigration_origin_analysis = immigration \\\n",
    "    .groupBy('origin_country', 'visa_type').count() \\\n",
    "    .withColumn('total_count', F.sum('count').over(window_origin_country)) \\\n",
    "    .withColumn('visa_type_weight', F.col('count') / F.col('total_count')) \\\n",
    "    .filter(F.col('total_count') > 10000) \\\n",
    "    .join(human_capital_rank, 'origin_country') \\\n",
    "    .join(press_freedom_rank, 'origin_country') \\\n",
    "    .join(gdp_per_capita_rank, 'origin_country')"
   ]
  },
  {
   "cell_type": "markdown",
   "metadata": {},
   "source": [
    "#### Top 10 origin country in terms of visiting US for education purpose\n",
    "\n",
    "Press freedom stats gives us a good opinion about the individual freedom in a country. The results below demonstrates the inverse correlation between press freedom and student immigrations. Students that live in a country without press freedom, intend to go US more for educational purposes. In addition, top 10 countries below also have below average human capital index and gdp per capita."
   ]
  },
  {
   "cell_type": "code",
   "execution_count": 11,
   "metadata": {},
   "outputs": [
    {
     "name": "stdout",
     "output_type": "stream",
     "text": [
      "+--------------+---------+-----+-----------+--------------------+------------------+------------------+-------------------+\n",
      "|origin_country|visa_type|count|total_count|    visa_type_weight|human_capital_rank|press_freedom_rank|gdp_per_capita_rank|\n",
      "+--------------+---------+-----+-----------+--------------------+------------------+------------------+-------------------+\n",
      "|  SAUDI ARABIA|  STUDENT| 2010|      10883| 0.18469172103280346|                73|               162|                 60|\n",
      "|        TURKEY|  STUDENT|  672|      16764| 0.04008589835361489|                53|               149|                 87|\n",
      "|      THAILAND|  STUDENT|  565|      14552| 0.03882627817482133|                65|               136|                126|\n",
      "|     SINGAPORE|  STUDENT|  375|      11444| 0.03276826284515903|                 1|               145|                 15|\n",
      "|         INDIA|  STUDENT| 3364|     107193| 0.03138264625488605|               114|               130|                195|\n",
      "|       NIGERIA|  STUDENT|  329|      13963|0.023562271718112152|               150|               116|                188|\n",
      "|        RUSSIA|  STUDENT|  382|      22297| 0.01713234964344979|                34|               142|                100|\n",
      "|        PANAMA|  STUDENT|  192|      11426|0.016803780850691407|                91|                91|                 75|\n",
      "|      COLOMBIA|  STUDENT|  814|      54330|0.014982514264678814|                70|               123|                127|\n",
      "|          PERU|  STUDENT|  293|      20911|0.014011764143273875|                72|                85|                123|\n",
      "+--------------+---------+-----+-----------+--------------------+------------------+------------------+-------------------+\n",
      "only showing top 10 rows\n",
      "\n"
     ]
    }
   ],
   "source": [
    "immigration_origin_analysis \\\n",
    "    .filter(F.col('visa_type') == 'STUDENT') \\\n",
    "    .orderBy(F.col('visa_type_weight').desc()).show(10)"
   ]
  },
  {
   "cell_type": "markdown",
   "metadata": {},
   "source": [
    "#### Top 10 origin country in terms of visiting US for business purpose\n",
    "In contrast to student immigrations, the countries that values their people more have been the top origin countries for business-related immigrations."
   ]
  },
  {
   "cell_type": "code",
   "execution_count": 12,
   "metadata": {},
   "outputs": [
    {
     "name": "stdout",
     "output_type": "stream",
     "text": [
      "+--------------+---------+-----+-----------+-------------------+------------------+------------------+-------------------+\n",
      "|origin_country|visa_type|count|total_count|   visa_type_weight|human_capital_rank|press_freedom_rank|gdp_per_capita_rank|\n",
      "+--------------+---------+-----+-----------+-------------------+------------------+------------------+-------------------+\n",
      "|     SINGAPORE| BUSINESS| 4869|      11444| 0.4254631247815449|                 1|               145|                 15|\n",
      "|       BELGIUM| BUSINESS| 6064|      20796| 0.2915945374110406|                26|                 9|                 28|\n",
      "|       GERMANY| BUSINESS|44343|     156613|  0.283137415157107|                11|                16|                 27|\n",
      "|        POLAND| BUSINESS| 4251|      16153| 0.2631709280009905|                30|                53|                 81|\n",
      "|       IRELAND| BUSINESS| 7864|      29894| 0.2630628219709641|                 6|                14|                 10|\n",
      "|       FINLAND| BUSINESS| 2985|      11545| 0.2585534863577306|                 5|                 3|                 24|\n",
      "|       AUSTRIA| BUSINESS| 3939|      15465|0.25470417070805046|                12|                11|                 22|\n",
      "|       DENMARK| BUSINESS| 6229|      24600|0.25321138211382116|                17|                 4|                 17|\n",
      "|         ITALY| BUSINESS|16621|      65782|0.25266790307378917|                19|                51|                 45|\n",
      "|        TURKEY| BUSINESS| 4120|      16764|0.24576473395371032|                53|               149|                 87|\n",
      "+--------------+---------+-----+-----------+-------------------+------------------+------------------+-------------------+\n",
      "only showing top 10 rows\n",
      "\n"
     ]
    }
   ],
   "source": [
    "immigration_origin_analysis \\\n",
    "    .filter(F.col('visa_type') == 'BUSINESS') \\\n",
    "    .orderBy(F.col('visa_type_weight').desc()).show(10)"
   ]
  },
  {
   "cell_type": "markdown",
   "metadata": {},
   "source": [
    "## Analysis of US cities demographics"
   ]
  },
  {
   "cell_type": "markdown",
   "metadata": {},
   "source": [
    "#### Top 10 cities with highest foreign-born people density"
   ]
  },
  {
   "cell_type": "code",
   "execution_count": 13,
   "metadata": {},
   "outputs": [
    {
     "name": "stdout",
     "output_type": "stream",
     "text": [
      "+-------------+-------------+-----------------------+----------------+--------------------+\n",
      "|        state|         city|foreign_born_population|total_population|foreign_born_density|\n",
      "+-------------+-------------+-----------------------+----------------+--------------------+\n",
      "|   CALIFORNIA|     SAN JOSE|                 401493|         1026919|  0.3909685184517961|\n",
      "|     NEW YORK|     NEW YORK|                3212500|         8550405|  0.3757131972111263|\n",
      "|   CALIFORNIA|  LOS ANGELES|                1485425|         3971896|   0.373983860604608|\n",
      "|   CALIFORNIA|SAN FRANCISCO|                 297199|          864816| 0.34365576030045697|\n",
      "|        TEXAS|      HOUSTON|                 696210|         2298628|  0.3028806749069445|\n",
      "|MASSACHUSETTS|       BOSTON|                 190123|          669469|  0.2839907449037969|\n",
      "|   CALIFORNIA|    SAN DIEGO|                 373842|         1394907| 0.26800496377177835|\n",
      "|        TEXAS|       DALLAS|                 326825|         1300082|   0.251387989372978|\n",
      "|        TEXAS|      EL PASO|                 159709|          681136|  0.2344744661859012|\n",
      "|     ILLINOIS|      CHICAGO|                 573463|         2720556| 0.21078889756358626|\n",
      "+-------------+-------------+-----------------------+----------------+--------------------+\n",
      "only showing top 10 rows\n",
      "\n"
     ]
    }
   ],
   "source": [
    "foreign_born_ratio = us_cities_demographics \\\n",
    "    .filter(F.col('foreign_born_population').isNotNull()) \\\n",
    "    .filter(F.col('total_population') > 500000) \\\n",
    "    .withColumn('foreign_born_density', F.col('foreign_born_population') / F.col('total_population')) \\\n",
    "    .select('state', 'city', 'foreign_born_population', 'total_population', 'foreign_born_density') \\\n",
    "    .dropDuplicates()\n",
    "foreign_born_ratio.orderBy(F.col('foreign_born_density').desc()).show(10)"
   ]
  },
  {
   "cell_type": "markdown",
   "metadata": {},
   "source": [
    "#### Top 10 cities with highest veteran people density"
   ]
  },
  {
   "cell_type": "code",
   "execution_count": 14,
   "metadata": {},
   "outputs": [
    {
     "name": "stdout",
     "output_type": "stream",
     "text": [
      "+----------+--------------------+------------------+----------------+-------------------+\n",
      "|     state|                city|veteran_population|total_population|    veteran_density|\n",
      "+----------+--------------------+------------------+----------------+-------------------+\n",
      "|   FLORIDA|        JACKSONVILLE|             75432|          868031|0.08690012223065766|\n",
      "|     TEXAS|         SAN ANTONIO|            109089|         1469824|0.07421909017678308|\n",
      "|   ARIZONA|              TUCSON|             38182|          531674|0.07181468343383351|\n",
      "|     TEXAS|             EL PASO|             47693|          681136|0.07001979046768927|\n",
      "|    NEVADA|           LAS VEGAS|             42397|          623769| 0.0679690718839827|\n",
      "|NEW MEXICO|         ALBUQUERQUE|             37443|          559131|0.06696641753006004|\n",
      "|CALIFORNIA|           SAN DIEGO|             92489|         1394907|0.06630477874152184|\n",
      "|  OKLAHOMA|       OKLAHOMA CITY|             41843|          631263|0.06628457552557333|\n",
      "|  KENTUCKY|LOUISVILLE/JEFFER...|             39364|          615389|0.06396604424193478|\n",
      "|   INDIANA|        INDIANAPOLIS|             42186|          848423|0.04972283872549424|\n",
      "+----------+--------------------+------------------+----------------+-------------------+\n",
      "only showing top 10 rows\n",
      "\n"
     ]
    }
   ],
   "source": [
    "veteran_ratio = us_cities_demographics \\\n",
    "    .filter(F.col('veteran_population').isNotNull()) \\\n",
    "    .filter(F.col('total_population') > 500000) \\\n",
    "    .withColumn('veteran_density', F.col('veteran_population') / F.col('total_population')) \\\n",
    "    .select('state', 'city', 'veteran_population', 'total_population', 'veteran_density') \\\n",
    "    .dropDuplicates()\n",
    "veteran_ratio.orderBy(F.col('veteran_density').desc()).show(10)"
   ]
  },
  {
   "cell_type": "markdown",
   "metadata": {},
   "source": [
    "#### Top 10 states with youngest population"
   ]
  },
  {
   "cell_type": "code",
   "execution_count": 15,
   "metadata": {},
   "outputs": [
    {
     "name": "stdout",
     "output_type": "stream",
     "text": [
      "+--------------------+------------------+\n",
      "|               state|       average_age|\n",
      "+--------------------+------------------+\n",
      "|                UTAH|  30.3310593751517|\n",
      "|           WISCONSIN|31.920280650605566|\n",
      "|              ALASKA|              32.0|\n",
      "|         MISSISSIPPI| 32.18462356242506|\n",
      "|               TEXAS| 32.50986361312457|\n",
      "|                IOWA|32.889554667346225|\n",
      "|            ARKANSAS| 32.91582510989542|\n",
      "|        NORTH DAKOTA| 32.96543353211251|\n",
      "|DISTRICT OF COLUMBIA|              33.0|\n",
      "|             GEORGIA| 33.11723217333165|\n",
      "+--------------------+------------------+\n",
      "only showing top 10 rows\n",
      "\n"
     ]
    }
   ],
   "source": [
    "youngest_cities = us_cities_demographics \\\n",
    "    .filter(F.col('median_age').isNotNull()) \\\n",
    "    .select('state', 'city', 'median_age', 'total_population') \\\n",
    "    .dropDuplicates() \\\n",
    "    .groupBy('state') \\\n",
    "    .agg((F.sum(F.col('median_age') * F.col('total_population')) / F.sum('total_population')).alias('average_age'))\n",
    "youngest_cities.orderBy(F.col('average_age').asc()).show(10)"
   ]
  },
  {
   "cell_type": "markdown",
   "metadata": {},
   "source": [
    "## Climate change analysis"
   ]
  },
  {
   "cell_type": "markdown",
   "metadata": {},
   "source": [
    "### Temperatures are constantly increasing since the beginning of 20th century"
   ]
  },
  {
   "cell_type": "code",
   "execution_count": 16,
   "metadata": {},
   "outputs": [
    {
     "name": "stdout",
     "output_type": "stream",
     "text": [
      "+------+--------------------+\n",
      "|decade|land_avg_temperature|\n",
      "+------+--------------------+\n",
      "| 2010s|   9.622430516613854|\n",
      "| 2000s|    9.49389165242513|\n",
      "| 1990s|   9.155183297395705|\n",
      "| 1980s|   8.911491670211156|\n",
      "| 1970s|     8.6584000090758|\n",
      "| 1960s|    8.63312501013279|\n",
      "| 1950s|    8.62083334326744|\n",
      "| 1940s|   8.725416634480158|\n",
      "| 1930s|   8.641675025224686|\n",
      "| 1920s|    8.49266666173935|\n",
      "| 1910s|   8.280849968393644|\n",
      "| 1900s|   8.257475004593532|\n",
      "| 1890s|   8.150416667262713|\n",
      "| 1880s|   8.046774985392888|\n",
      "| 1870s|   8.276966658234596|\n",
      "| 1860s|   8.104766645282506|\n",
      "| 1850s|   8.064883325000604|\n",
      "| 1840s|   7.978099996348222|\n",
      "| 1830s|     7.7376999715964|\n",
      "| 1820s|   8.182233330607414|\n",
      "| 1810s|   7.251066638032595|\n",
      "| 1800s|    8.29814168761174|\n",
      "| 1790s|   8.336866683264573|\n",
      "| 1780s|   8.141391668468714|\n",
      "| 1770s|   8.400108352055152|\n",
      "| 1760s|   7.981625017523766|\n",
      "| 1750s|   8.149851836747041|\n",
      "+------+--------------------+\n",
      "\n"
     ]
    }
   ],
   "source": [
    "global_temperatures \\\n",
    "    .groupBy('decade').agg(F.mean('land_avg_temperature').alias('land_avg_temperature')) \\\n",
    "    .orderBy(F.col('decade').desc()).show(100)"
   ]
  },
  {
   "cell_type": "markdown",
   "metadata": {},
   "source": [
    "### Coldest countries by decade"
   ]
  },
  {
   "cell_type": "code",
   "execution_count": 17,
   "metadata": {},
   "outputs": [
    {
     "name": "stdout",
     "output_type": "stream",
     "text": [
      "+------+------------+-------------------+\n",
      "|decade|country_name|    avg_temperature|\n",
      "+------+------------+-------------------+\n",
      "| 1880s|   GREENLAND| -19.66855000456174|\n",
      "| 1890s|   GREENLAND| -19.61917499601841|\n",
      "| 1860s|   GREENLAND|-19.358591613173484|\n",
      "| 1830s|   GREENLAND|-19.329749990006288|\n",
      "| 1910s|   GREENLAND|-19.216849998633066|\n",
      "| 1850s|   GREENLAND|-19.029166664679845|\n",
      "| 1840s|   GREENLAND|-18.985891751448314|\n",
      "| 1900s|   GREENLAND| -18.97052505550285|\n",
      "| 1970s|   GREENLAND| -18.74794997324546|\n",
      "| 1870s|   GREENLAND| -18.64782500664393|\n",
      "+------+------------+-------------------+\n",
      "only showing top 10 rows\n",
      "\n"
     ]
    }
   ],
   "source": [
    "temperatures_by_country \\\n",
    "    .groupBy('decade', 'country_name').agg(F.mean('avg_temperature').alias('avg_temperature')) \\\n",
    "    .orderBy(F.col('avg_temperature').asc()).show(10)"
   ]
  },
  {
   "cell_type": "markdown",
   "metadata": {},
   "source": [
    "### In parallel to global temperature trend, Greenland has been getting hotter year by year."
   ]
  },
  {
   "cell_type": "code",
   "execution_count": 18,
   "metadata": {},
   "outputs": [
    {
     "name": "stdout",
     "output_type": "stream",
     "text": [
      "+------+------------+-------------------+\n",
      "|decade|country_name|    avg_temperature|\n",
      "+------+------------+-------------------+\n",
      "| 2010s|   GREENLAND|-16.299841007387098|\n",
      "| 2000s|   GREENLAND|-17.038825014450897|\n",
      "| 1990s|   GREENLAND| -18.32337496081988|\n",
      "| 1980s|   GREENLAND| -18.62722500960032|\n",
      "| 1970s|   GREENLAND| -18.74794997324546|\n",
      "| 1960s|   GREENLAND|-18.235008384287358|\n",
      "| 1950s|   GREENLAND|-18.220725027720132|\n",
      "| 1940s|   GREENLAND|-17.848025012016297|\n",
      "| 1930s|   GREENLAND| -17.25954168746248|\n",
      "| 1920s|   GREENLAND|-18.245991618931292|\n",
      "| 1910s|   GREENLAND|-19.216849998633066|\n",
      "| 1900s|   GREENLAND| -18.97052505550285|\n",
      "| 1890s|   GREENLAND| -19.61917499601841|\n",
      "| 1880s|   GREENLAND| -19.66855000456174|\n",
      "| 1870s|   GREENLAND| -18.64782500664393|\n",
      "| 1860s|   GREENLAND|-19.358591613173484|\n",
      "| 1850s|   GREENLAND|-19.029166664679845|\n",
      "| 1840s|   GREENLAND|-18.985891751448314|\n",
      "| 1830s|   GREENLAND|-19.329749990006288|\n",
      "| 1820s|   GREENLAND| -18.64466666394756|\n",
      "+------+------------+-------------------+\n",
      "\n"
     ]
    }
   ],
   "source": [
    "temperatures_by_country \\\n",
    "    .filter(F.col('country_name') == 'GREENLAND') \\\n",
    "    .groupBy('decade', 'country_name').agg(F.mean('avg_temperature').alias('avg_temperature')) \\\n",
    "    .orderBy(F.col('decade').desc()).show(100)"
   ]
  }
 ],
 "metadata": {
  "kernelspec": {
   "display_name": "Python 3",
   "language": "python",
   "name": "python3"
  },
  "language_info": {
   "codemirror_mode": {
    "name": "ipython",
    "version": 3
   },
   "file_extension": ".py",
   "mimetype": "text/x-python",
   "name": "python",
   "nbconvert_exporter": "python",
   "pygments_lexer": "ipython3",
   "version": "3.7.4"
  }
 },
 "nbformat": 4,
 "nbformat_minor": 2
}
